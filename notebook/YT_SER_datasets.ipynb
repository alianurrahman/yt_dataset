{
  "nbformat": 4,
  "nbformat_minor": 0,
  "metadata": {
    "colab": {
      "provenance": []
    },
    "kernelspec": {
      "name": "python3",
      "display_name": "Python 3"
    },
    "language_info": {
      "name": "python"
    }
  },
  "cells": [
    {
      "cell_type": "markdown",
      "source": [
        "Installing and importing dependencies"
      ],
      "metadata": {
        "id": "mihPh03z7HKh"
      }
    },
    {
      "cell_type": "code",
      "execution_count": null,
      "metadata": {
        "id": "6bKau2-K64Yx"
      },
      "outputs": [],
      "source": [
        "!pip install spleeter\n",
        "!pip install yt_dlp\n",
        "!pip install pydub"
      ]
    },
    {
      "cell_type": "code",
      "source": [
        "import spleeter\n",
        "from __future__ import unicode_literals\n",
        "import yt_dlp as youtube_dl\n",
        "from pydub import AudioSegment\n",
        "from pydub.silence import split_on_silence\n",
        "import csv\n",
        "from pathlib import Path\n",
        "from termcolor import colored\n",
        "import os"
      ],
      "metadata": {
        "id": "_8urmzKx66Df"
      },
      "execution_count": null,
      "outputs": []
    },
    {
      "cell_type": "markdown",
      "source": [
        "Function to adjust characteristics of audio"
      ],
      "metadata": {
        "id": "QmHcYYQc7TKj"
      }
    },
    {
      "cell_type": "code",
      "source": [
        "def convert_audio(audio_file):\n",
        "    \"\"\"\n",
        "    Corrects the channels, sample rate, and sample width of the audios.\n",
        "    Replaces the original audio file with the one generated.\n",
        "    \"\"\"\n",
        "    sound = AudioSegment.from_file(audio_file)\n",
        "    sound = sound.set_frame_rate(16000)\n",
        "    sound = sound.set_channels(1)\n",
        "    sound = sound.set_sample_width(2) # 2 corresponds to 16-bit sample width in Pydub\n",
        "    sound.export(audio_file, format =\"wav\")"
      ],
      "metadata": {
        "id": "YRLY_MaJ68Nd"
      },
      "execution_count": null,
      "outputs": []
    },
    {
      "cell_type": "markdown",
      "source": [
        "Some necessary variables"
      ],
      "metadata": {
        "id": "a0gsCCZ57fU4"
      }
    },
    {
      "cell_type": "code",
      "source": [
        "ydl_opts = {\n",
        "    \"format\": \"bestaudio/best\",\n",
        "    \"audio-format\": \"wav\",\n",
        "    \"outtmpl\": \"audio.wav\",\n",
        "    \"noplaylist\" : True\n",
        "} # customizing the downloaded audio for our needs\n",
        "link_num = 1 # iterates over the links in the TXT file\n",
        "links_file = \"/content/links.txt\" # File containing links to YouTube videos"
      ],
      "metadata": {
        "id": "3VvTDS6B6-gr"
      },
      "execution_count": null,
      "outputs": []
    },
    {
      "cell_type": "markdown",
      "source": [
        "Looping over links and generating audio chunks"
      ],
      "metadata": {
        "id": "kTNwlzkT7htM"
      }
    },
    {
      "cell_type": "code",
      "source": [
        "with open(links_file) as fp:\n",
        "   for link in fp:\n",
        "        print(\"\\nStarting processing for link number \", link_num)\n",
        "\n",
        "        # Step 1: Extract and download the audio\n",
        "        try:\n",
        "            with youtube_dl.YoutubeDL(ydl_opts) as ydl:\n",
        "                ydl.download([link])\n",
        "        except Exception as e:\n",
        "            print(colored(\"Link number {} cannot be downloaded. Exception: {}\".format(link_num, e), 'red'))\n",
        "            continue # continue with the next link in the file\n",
        "\n",
        "        # Step 2: Separate voice from the audio\n",
        "        !spleeter separate -p spleeter:2stems -o output \"/content/audio.wav\"\n",
        "\n",
        "        # Step 3: Adjust the sampling rate, sample width, and channels\n",
        "        convert_audio(\"/content/output/audio/vocals.wav\")\n",
        "\n",
        "        # Step 4: Split into smaller parts\n",
        "        sound_file = AudioSegment.from_wav(\"/content/output/audio/vocals.wav\")\n",
        "        audio_chunks = split_on_silence(sound_file,\n",
        "            # must be silent for at least half a second\n",
        "            min_silence_len=500,\n",
        "\n",
        "            # consider it silent if quieter than -16 dBFS\n",
        "            silence_thresh=-50\n",
        "        )\n",
        "        print (\"exporting files for link number: \", link_num)\n",
        "        os.mkdir(str(link_num)) # making folder named after link number we are processing\n",
        "        for i, chunk in enumerate(audio_chunks):\n",
        "            out_file = \"{0}/{0}_{1}.wav\".format(link_num, i)\n",
        "            chunk.export(out_file, format=\"wav\")\n",
        "\n",
        "        link_num += 1\n",
        "\n",
        "        # deleting the redundant files gnerated for previous link to save space\n",
        "        !rm -rf /content/output\n",
        "        !rm /content/audio.wav"
      ],
      "metadata": {
        "colab": {
          "base_uri": "https://localhost:8080/"
        },
        "id": "6KmlELe_7BcF",
        "outputId": "91a7dc47-e28c-47a5-9dcd-5ab86950571c"
      },
      "execution_count": null,
      "outputs": [
        {
          "output_type": "stream",
          "name": "stdout",
          "text": [
            "\n",
            "Starting processing for link number  1\n",
            "[youtube] Extracting URL: https://youtu.be/sxLAc9mdoqE?si=Wn8ZnPI25N6HY-8K\n",
            "[youtube] sxLAc9mdoqE: Downloading webpage\n",
            "[youtube] sxLAc9mdoqE: Downloading ios player API JSON\n",
            "[youtube] sxLAc9mdoqE: Downloading web creator player API JSON\n",
            "[youtube] sxLAc9mdoqE: Downloading player 5f8f5b0f\n",
            "[youtube] sxLAc9mdoqE: Downloading m3u8 information\n",
            "[info] sxLAc9mdoqE: Downloading 1 format(s): 251\n",
            "[download] Destination: audio.wav\n",
            "[download] 100% of    5.84MiB in 00:00:01 at 5.52MiB/s   \n",
            "INFO:spleeter:Downloading model archive https://github.com/deezer/spleeter/releases/download/v1.4.0/2stems.tar.gz\n",
            "INFO:spleeter:Validating archive checksum\n",
            "INFO:spleeter:Extracting downloaded 2stems archive\n",
            "INFO:spleeter:2stems model file(s) extracted\n",
            "INFO:spleeter:File output/audio/vocals.wav written succesfully\n",
            "INFO:spleeter:File output/audio/accompaniment.wav written succesfully\n",
            "exporting files for link number:  1\n"
          ]
        }
      ]
    }
  ]
}